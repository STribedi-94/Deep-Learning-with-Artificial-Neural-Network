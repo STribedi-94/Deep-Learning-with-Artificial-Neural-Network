{
  "cells": [
    {
      "cell_type": "markdown",
      "metadata": {
        "id": "view-in-github",
        "colab_type": "text"
      },
      "source": [
        "<a href=\"https://colab.research.google.com/github/STribedi-94/Deep-Learning-with-Artificial-Neural-Network/blob/main/Deep_Learning_with_Keras_Diabetes.ipynb\" target=\"_parent\"><img src=\"https://colab.research.google.com/assets/colab-badge.svg\" alt=\"Open In Colab\"/></a>"
      ]
    },
    {
      "cell_type": "code",
      "execution_count": 1,
      "id": "d31b9fe1-36f9-427c-94a2-3fbde5109df0",
      "metadata": {
        "id": "d31b9fe1-36f9-427c-94a2-3fbde5109df0"
      },
      "outputs": [],
      "source": [
        "import pandas as pd\n",
        "import numpy as np"
      ]
    },
    {
      "cell_type": "code",
      "execution_count": 2,
      "id": "11fbce75-7a1f-4fba-aa86-104a3eefc3fa",
      "metadata": {
        "id": "11fbce75-7a1f-4fba-aa86-104a3eefc3fa"
      },
      "outputs": [],
      "source": [
        "df_diab = pd.read_csv('diabetes.csv')"
      ]
    },
    {
      "cell_type": "code",
      "execution_count": 3,
      "id": "91639249-a006-4260-8e75-03cfd2aa55b8",
      "metadata": {
        "colab": {
          "base_uri": "https://localhost:8080/",
          "height": 206
        },
        "id": "91639249-a006-4260-8e75-03cfd2aa55b8",
        "outputId": "b4a4b131-01b6-4bec-ba0b-a3e3b525c036"
      },
      "outputs": [
        {
          "output_type": "execute_result",
          "data": {
            "text/plain": [
              "   Pregnancies  Glucose  BloodPressure  SkinThickness  Insulin   BMI  \\\n",
              "0            6      148             72             35        0  33.6   \n",
              "1            1       85             66             29        0  26.6   \n",
              "2            8      183             64              0        0  23.3   \n",
              "3            1       89             66             23       94  28.1   \n",
              "4            0      137             40             35      168  43.1   \n",
              "\n",
              "   DiabetesPedigreeFunction  Age  Outcome  \n",
              "0                     0.627   50        1  \n",
              "1                     0.351   31        0  \n",
              "2                     0.672   32        1  \n",
              "3                     0.167   21        0  \n",
              "4                     2.288   33        1  "
            ],
            "text/html": [
              "\n",
              "  <div id=\"df-557ba218-67c7-4771-b6e6-a0ecd46a40c7\">\n",
              "    <div class=\"colab-df-container\">\n",
              "      <div>\n",
              "<style scoped>\n",
              "    .dataframe tbody tr th:only-of-type {\n",
              "        vertical-align: middle;\n",
              "    }\n",
              "\n",
              "    .dataframe tbody tr th {\n",
              "        vertical-align: top;\n",
              "    }\n",
              "\n",
              "    .dataframe thead th {\n",
              "        text-align: right;\n",
              "    }\n",
              "</style>\n",
              "<table border=\"1\" class=\"dataframe\">\n",
              "  <thead>\n",
              "    <tr style=\"text-align: right;\">\n",
              "      <th></th>\n",
              "      <th>Pregnancies</th>\n",
              "      <th>Glucose</th>\n",
              "      <th>BloodPressure</th>\n",
              "      <th>SkinThickness</th>\n",
              "      <th>Insulin</th>\n",
              "      <th>BMI</th>\n",
              "      <th>DiabetesPedigreeFunction</th>\n",
              "      <th>Age</th>\n",
              "      <th>Outcome</th>\n",
              "    </tr>\n",
              "  </thead>\n",
              "  <tbody>\n",
              "    <tr>\n",
              "      <th>0</th>\n",
              "      <td>6</td>\n",
              "      <td>148</td>\n",
              "      <td>72</td>\n",
              "      <td>35</td>\n",
              "      <td>0</td>\n",
              "      <td>33.6</td>\n",
              "      <td>0.627</td>\n",
              "      <td>50</td>\n",
              "      <td>1</td>\n",
              "    </tr>\n",
              "    <tr>\n",
              "      <th>1</th>\n",
              "      <td>1</td>\n",
              "      <td>85</td>\n",
              "      <td>66</td>\n",
              "      <td>29</td>\n",
              "      <td>0</td>\n",
              "      <td>26.6</td>\n",
              "      <td>0.351</td>\n",
              "      <td>31</td>\n",
              "      <td>0</td>\n",
              "    </tr>\n",
              "    <tr>\n",
              "      <th>2</th>\n",
              "      <td>8</td>\n",
              "      <td>183</td>\n",
              "      <td>64</td>\n",
              "      <td>0</td>\n",
              "      <td>0</td>\n",
              "      <td>23.3</td>\n",
              "      <td>0.672</td>\n",
              "      <td>32</td>\n",
              "      <td>1</td>\n",
              "    </tr>\n",
              "    <tr>\n",
              "      <th>3</th>\n",
              "      <td>1</td>\n",
              "      <td>89</td>\n",
              "      <td>66</td>\n",
              "      <td>23</td>\n",
              "      <td>94</td>\n",
              "      <td>28.1</td>\n",
              "      <td>0.167</td>\n",
              "      <td>21</td>\n",
              "      <td>0</td>\n",
              "    </tr>\n",
              "    <tr>\n",
              "      <th>4</th>\n",
              "      <td>0</td>\n",
              "      <td>137</td>\n",
              "      <td>40</td>\n",
              "      <td>35</td>\n",
              "      <td>168</td>\n",
              "      <td>43.1</td>\n",
              "      <td>2.288</td>\n",
              "      <td>33</td>\n",
              "      <td>1</td>\n",
              "    </tr>\n",
              "  </tbody>\n",
              "</table>\n",
              "</div>\n",
              "      <button class=\"colab-df-convert\" onclick=\"convertToInteractive('df-557ba218-67c7-4771-b6e6-a0ecd46a40c7')\"\n",
              "              title=\"Convert this dataframe to an interactive table.\"\n",
              "              style=\"display:none;\">\n",
              "        \n",
              "  <svg xmlns=\"http://www.w3.org/2000/svg\" height=\"24px\"viewBox=\"0 0 24 24\"\n",
              "       width=\"24px\">\n",
              "    <path d=\"M0 0h24v24H0V0z\" fill=\"none\"/>\n",
              "    <path d=\"M18.56 5.44l.94 2.06.94-2.06 2.06-.94-2.06-.94-.94-2.06-.94 2.06-2.06.94zm-11 1L8.5 8.5l.94-2.06 2.06-.94-2.06-.94L8.5 2.5l-.94 2.06-2.06.94zm10 10l.94 2.06.94-2.06 2.06-.94-2.06-.94-.94-2.06-.94 2.06-2.06.94z\"/><path d=\"M17.41 7.96l-1.37-1.37c-.4-.4-.92-.59-1.43-.59-.52 0-1.04.2-1.43.59L10.3 9.45l-7.72 7.72c-.78.78-.78 2.05 0 2.83L4 21.41c.39.39.9.59 1.41.59.51 0 1.02-.2 1.41-.59l7.78-7.78 2.81-2.81c.8-.78.8-2.07 0-2.86zM5.41 20L4 18.59l7.72-7.72 1.47 1.35L5.41 20z\"/>\n",
              "  </svg>\n",
              "      </button>\n",
              "      \n",
              "  <style>\n",
              "    .colab-df-container {\n",
              "      display:flex;\n",
              "      flex-wrap:wrap;\n",
              "      gap: 12px;\n",
              "    }\n",
              "\n",
              "    .colab-df-convert {\n",
              "      background-color: #E8F0FE;\n",
              "      border: none;\n",
              "      border-radius: 50%;\n",
              "      cursor: pointer;\n",
              "      display: none;\n",
              "      fill: #1967D2;\n",
              "      height: 32px;\n",
              "      padding: 0 0 0 0;\n",
              "      width: 32px;\n",
              "    }\n",
              "\n",
              "    .colab-df-convert:hover {\n",
              "      background-color: #E2EBFA;\n",
              "      box-shadow: 0px 1px 2px rgba(60, 64, 67, 0.3), 0px 1px 3px 1px rgba(60, 64, 67, 0.15);\n",
              "      fill: #174EA6;\n",
              "    }\n",
              "\n",
              "    [theme=dark] .colab-df-convert {\n",
              "      background-color: #3B4455;\n",
              "      fill: #D2E3FC;\n",
              "    }\n",
              "\n",
              "    [theme=dark] .colab-df-convert:hover {\n",
              "      background-color: #434B5C;\n",
              "      box-shadow: 0px 1px 3px 1px rgba(0, 0, 0, 0.15);\n",
              "      filter: drop-shadow(0px 1px 2px rgba(0, 0, 0, 0.3));\n",
              "      fill: #FFFFFF;\n",
              "    }\n",
              "  </style>\n",
              "\n",
              "      <script>\n",
              "        const buttonEl =\n",
              "          document.querySelector('#df-557ba218-67c7-4771-b6e6-a0ecd46a40c7 button.colab-df-convert');\n",
              "        buttonEl.style.display =\n",
              "          google.colab.kernel.accessAllowed ? 'block' : 'none';\n",
              "\n",
              "        async function convertToInteractive(key) {\n",
              "          const element = document.querySelector('#df-557ba218-67c7-4771-b6e6-a0ecd46a40c7');\n",
              "          const dataTable =\n",
              "            await google.colab.kernel.invokeFunction('convertToInteractive',\n",
              "                                                     [key], {});\n",
              "          if (!dataTable) return;\n",
              "\n",
              "          const docLinkHtml = 'Like what you see? Visit the ' +\n",
              "            '<a target=\"_blank\" href=https://colab.research.google.com/notebooks/data_table.ipynb>data table notebook</a>'\n",
              "            + ' to learn more about interactive tables.';\n",
              "          element.innerHTML = '';\n",
              "          dataTable['output_type'] = 'display_data';\n",
              "          await google.colab.output.renderOutput(dataTable, element);\n",
              "          const docLink = document.createElement('div');\n",
              "          docLink.innerHTML = docLinkHtml;\n",
              "          element.appendChild(docLink);\n",
              "        }\n",
              "      </script>\n",
              "    </div>\n",
              "  </div>\n",
              "  "
            ]
          },
          "metadata": {},
          "execution_count": 3
        }
      ],
      "source": [
        "df_diab.head()"
      ]
    },
    {
      "cell_type": "code",
      "execution_count": 4,
      "id": "6f76f400-184d-4d40-ad6b-60f8cfd46de9",
      "metadata": {
        "colab": {
          "base_uri": "https://localhost:8080/"
        },
        "id": "6f76f400-184d-4d40-ad6b-60f8cfd46de9",
        "outputId": "f73cf54b-f49b-4d31-9181-26e7c4c8db75"
      },
      "outputs": [
        {
          "output_type": "execute_result",
          "data": {
            "text/plain": [
              "(768, 9)"
            ]
          },
          "metadata": {},
          "execution_count": 4
        }
      ],
      "source": [
        "df_diab.shape"
      ]
    },
    {
      "cell_type": "code",
      "execution_count": 5,
      "id": "1a6c4030-1aee-47f1-bfcb-5d30213fdb0a",
      "metadata": {
        "colab": {
          "base_uri": "https://localhost:8080/"
        },
        "id": "1a6c4030-1aee-47f1-bfcb-5d30213fdb0a",
        "outputId": "21701234-1ea8-4e27-9208-459cf8777748"
      },
      "outputs": [
        {
          "output_type": "execute_result",
          "data": {
            "text/plain": [
              "array([1, 0])"
            ]
          },
          "metadata": {},
          "execution_count": 5
        }
      ],
      "source": [
        "df_diab.Outcome.unique()"
      ]
    },
    {
      "cell_type": "code",
      "execution_count": 6,
      "id": "3c0c67d7-fec6-44c5-94c1-9a3f6660d87f",
      "metadata": {
        "colab": {
          "base_uri": "https://localhost:8080/"
        },
        "id": "3c0c67d7-fec6-44c5-94c1-9a3f6660d87f",
        "outputId": "bedb1b65-88c6-412f-ec5f-b8c09ab6f83a"
      },
      "outputs": [
        {
          "output_type": "execute_result",
          "data": {
            "text/plain": [
              "Pregnancies                 0\n",
              "Glucose                     0\n",
              "BloodPressure               0\n",
              "SkinThickness               0\n",
              "Insulin                     0\n",
              "BMI                         0\n",
              "DiabetesPedigreeFunction    0\n",
              "Age                         0\n",
              "Outcome                     0\n",
              "dtype: int64"
            ]
          },
          "metadata": {},
          "execution_count": 6
        }
      ],
      "source": [
        "df_diab.isna().sum()"
      ]
    },
    {
      "cell_type": "code",
      "execution_count": 7,
      "id": "9bb6fc82-c903-4440-bbfc-9d7ca87465ca",
      "metadata": {
        "id": "9bb6fc82-c903-4440-bbfc-9d7ca87465ca"
      },
      "outputs": [],
      "source": [
        "X = df_diab.drop(['Outcome'],axis=1)\n",
        "y = df_diab['Outcome']"
      ]
    },
    {
      "cell_type": "code",
      "execution_count": 8,
      "id": "b390e395-80e8-4903-91e1-c9a1b9946432",
      "metadata": {
        "id": "b390e395-80e8-4903-91e1-c9a1b9946432"
      },
      "outputs": [],
      "source": [
        "np.random.seed(12345)"
      ]
    },
    {
      "cell_type": "code",
      "execution_count": 9,
      "id": "17b06800-3437-4f35-96f8-13fbcc67628f",
      "metadata": {
        "id": "17b06800-3437-4f35-96f8-13fbcc67628f"
      },
      "outputs": [],
      "source": [
        "from sklearn.model_selection import train_test_split"
      ]
    },
    {
      "cell_type": "code",
      "execution_count": 10,
      "id": "4750bdbe-c8c4-4ec2-9424-377492df3e93",
      "metadata": {
        "id": "4750bdbe-c8c4-4ec2-9424-377492df3e93"
      },
      "outputs": [],
      "source": [
        "X_train, X_test, y_train,y_test = train_test_split(X,\n",
        "                                                   y,\n",
        "                                                   stratify = y,\n",
        "                                                   test_size=0.2,\n",
        "                                                   random_state=12345)"
      ]
    },
    {
      "cell_type": "code",
      "execution_count": 11,
      "id": "06496bb0-5fda-466c-b58f-ad2f1b88785a",
      "metadata": {
        "colab": {
          "base_uri": "https://localhost:8080/"
        },
        "id": "06496bb0-5fda-466c-b58f-ad2f1b88785a",
        "outputId": "1b24c4e0-ee67-4ca8-d030-2ddeca7cb49d"
      },
      "outputs": [
        {
          "output_type": "execute_result",
          "data": {
            "text/plain": [
              "(614, 8)"
            ]
          },
          "metadata": {},
          "execution_count": 11
        }
      ],
      "source": [
        "X_train.shape"
      ]
    },
    {
      "cell_type": "code",
      "execution_count": 12,
      "id": "5ca2c389-5256-4455-9b4d-c0fd3fc9d166",
      "metadata": {
        "colab": {
          "base_uri": "https://localhost:8080/"
        },
        "id": "5ca2c389-5256-4455-9b4d-c0fd3fc9d166",
        "outputId": "b5511ce4-b87f-4074-bb52-002377088e92"
      },
      "outputs": [
        {
          "output_type": "execute_result",
          "data": {
            "text/plain": [
              "(154, 8)"
            ]
          },
          "metadata": {},
          "execution_count": 12
        }
      ],
      "source": [
        "X_test.shape"
      ]
    },
    {
      "cell_type": "code",
      "execution_count": 13,
      "id": "c49ec3ef-1f00-475d-ac24-43cffb4974b2",
      "metadata": {
        "id": "c49ec3ef-1f00-475d-ac24-43cffb4974b2"
      },
      "outputs": [],
      "source": [
        "from sklearn.preprocessing import StandardScaler"
      ]
    },
    {
      "cell_type": "code",
      "execution_count": 14,
      "id": "b2619fcb-0182-4fbe-bc3f-eea81a9d9e1a",
      "metadata": {
        "id": "b2619fcb-0182-4fbe-bc3f-eea81a9d9e1a"
      },
      "outputs": [],
      "source": [
        "# X-scaled = (X - mean)/sd -> z value\n",
        "\n",
        "scaler = StandardScaler()\n",
        "X_train_scaled = scaler.fit_transform(X_train)\n",
        "X_test_scaled = scaler.transform(X_test)"
      ]
    },
    {
      "cell_type": "code",
      "execution_count": 15,
      "id": "d408f475-5c67-4f1d-ba17-b11ed7505396",
      "metadata": {
        "id": "d408f475-5c67-4f1d-ba17-b11ed7505396"
      },
      "outputs": [],
      "source": [
        "import tensorflow as tf"
      ]
    },
    {
      "cell_type": "code",
      "execution_count": 16,
      "id": "4b5efbaf-66d7-4e8e-95ac-9434f1d8cfb7",
      "metadata": {
        "colab": {
          "base_uri": "https://localhost:8080/"
        },
        "id": "4b5efbaf-66d7-4e8e-95ac-9434f1d8cfb7",
        "outputId": "10046e4b-4890-4c9e-9ebb-45a16a9e1e2d"
      },
      "outputs": [
        {
          "output_type": "stream",
          "name": "stdout",
          "text": [
            "2.8.2\n"
          ]
        }
      ],
      "source": [
        "print(tf.__version__)"
      ]
    },
    {
      "cell_type": "code",
      "execution_count": null,
      "id": "68a15d9c-119c-4702-b20a-912cb87b96f2",
      "metadata": {
        "id": "68a15d9c-119c-4702-b20a-912cb87b96f2"
      },
      "outputs": [],
      "source": [
        "#!pip install tensorflow"
      ]
    },
    {
      "cell_type": "code",
      "execution_count": 17,
      "id": "200df40a-fccf-43dd-9393-302c44f9935b",
      "metadata": {
        "id": "200df40a-fccf-43dd-9393-302c44f9935b"
      },
      "outputs": [],
      "source": [
        "from tensorflow.keras.models import Sequential"
      ]
    },
    {
      "cell_type": "code",
      "execution_count": null,
      "id": "8ccb2549-8af0-42ec-b077-4ebdd764c162",
      "metadata": {
        "id": "8ccb2549-8af0-42ec-b077-4ebdd764c162"
      },
      "outputs": [],
      "source": [
        "from tensorflow.keras.layers import Dense, Input"
      ]
    },
    {
      "cell_type": "code",
      "execution_count": null,
      "id": "5fede699-aebf-4753-897a-6faf3cbad9c0",
      "metadata": {
        "id": "5fede699-aebf-4753-897a-6faf3cbad9c0"
      },
      "outputs": [],
      "source": [
        "model = Sequential()"
      ]
    },
    {
      "cell_type": "code",
      "execution_count": null,
      "id": "4dd59932-4b7c-43ae-afee-680ddf2039dc",
      "metadata": {
        "id": "4dd59932-4b7c-43ae-afee-680ddf2039dc",
        "outputId": "b2db423d-e003-4baa-93b5-a76f7eac8011"
      },
      "outputs": [
        {
          "data": {
            "text/plain": [
              "8"
            ]
          },
          "execution_count": 20,
          "metadata": {},
          "output_type": "execute_result"
        }
      ],
      "source": [
        "X_train_scaled.shape[1]"
      ]
    },
    {
      "cell_type": "code",
      "execution_count": null,
      "id": "ee925079-e57f-4cdb-9adb-659a0cde45f1",
      "metadata": {
        "id": "ee925079-e57f-4cdb-9adb-659a0cde45f1"
      },
      "outputs": [],
      "source": [
        "model.add(Input(shape = (X_train_scaled.shape[1],)))"
      ]
    },
    {
      "cell_type": "code",
      "execution_count": null,
      "id": "a9bf1882-dc8e-431f-aae3-a6310be02a04",
      "metadata": {
        "id": "a9bf1882-dc8e-431f-aae3-a6310be02a04"
      },
      "outputs": [],
      "source": [
        "# First Hidden Layer - 128 neurons, Relu activation\n",
        "model.add(Dense(units=128,\n",
        "                activation='relu'\n",
        "         ))"
      ]
    },
    {
      "cell_type": "code",
      "execution_count": null,
      "id": "abdee2a8-4227-435e-9988-8818297124f0",
      "metadata": {
        "id": "abdee2a8-4227-435e-9988-8818297124f0"
      },
      "outputs": [],
      "source": [
        "# Second Hidden Layer - 64 neurons, Relu activation\n",
        "model.add(Dense(units=64, activation='relu'))\n",
        "\n",
        "# Third Hidden Layer 32, relu\n",
        "model.add(Dense(units=32, activation='relu'))\n",
        "\n",
        "# Output layer - Sigmoid\n",
        "model.add(Dense(units=1, activation='sigmoid'))"
      ]
    },
    {
      "cell_type": "code",
      "execution_count": null,
      "id": "9c3805bb-745c-4770-a588-e9ee219aedba",
      "metadata": {
        "id": "9c3805bb-745c-4770-a588-e9ee219aedba",
        "outputId": "6868dab9-dc11-4ac8-9b7c-e8d93f1d0cdf"
      },
      "outputs": [
        {
          "name": "stdout",
          "output_type": "stream",
          "text": [
            "Model: \"sequential\"\n",
            "_________________________________________________________________\n",
            " Layer (type)                Output Shape              Param #   \n",
            "=================================================================\n",
            " dense (Dense)               (None, 128)               1152      \n",
            "                                                                 \n",
            " dense_1 (Dense)             (None, 64)                8256      \n",
            "                                                                 \n",
            " dense_2 (Dense)             (None, 32)                2080      \n",
            "                                                                 \n",
            " dense_3 (Dense)             (None, 1)                 33        \n",
            "                                                                 \n",
            "=================================================================\n",
            "Total params: 11,521\n",
            "Trainable params: 11,521\n",
            "Non-trainable params: 0\n",
            "_________________________________________________________________\n"
          ]
        }
      ],
      "source": [
        "model.summary()"
      ]
    },
    {
      "cell_type": "code",
      "execution_count": null,
      "id": "b056731d-0a1c-4dc5-aa40-a1e6755e45b0",
      "metadata": {
        "id": "b056731d-0a1c-4dc5-aa40-a1e6755e45b0",
        "outputId": "3ee67ca8-da4b-4ce8-9ed0-361799d8ba10"
      },
      "outputs": [
        {
          "data": {
            "text/plain": [
              "11521"
            ]
          },
          "execution_count": 28,
          "metadata": {},
          "output_type": "execute_result"
        }
      ],
      "source": [
        "1152+8256+2080+33"
      ]
    },
    {
      "cell_type": "code",
      "execution_count": null,
      "id": "eb0f7946-d4e1-444f-a086-509b9c58fb79",
      "metadata": {
        "id": "eb0f7946-d4e1-444f-a086-509b9c58fb79",
        "outputId": "705dfe19-01b3-45d2-9339-795a706637c8"
      },
      "outputs": [
        {
          "data": {
            "text/plain": [
              "1152"
            ]
          },
          "execution_count": 27,
          "metadata": {},
          "output_type": "execute_result"
        }
      ],
      "source": [
        "(8+1)*128"
      ]
    },
    {
      "cell_type": "code",
      "execution_count": null,
      "id": "3a57f45f-b06d-48ce-a319-1964cfb83549",
      "metadata": {
        "id": "3a57f45f-b06d-48ce-a319-1964cfb83549",
        "outputId": "e50975fd-9e12-4743-fe95-17b2098152f2"
      },
      "outputs": [
        {
          "data": {
            "text/plain": [
              "8256"
            ]
          },
          "execution_count": 25,
          "metadata": {},
          "output_type": "execute_result"
        }
      ],
      "source": [
        "(128+1)*64"
      ]
    },
    {
      "cell_type": "code",
      "execution_count": null,
      "id": "5fddf296-b79d-4f09-b857-1a8ef09a9365",
      "metadata": {
        "id": "5fddf296-b79d-4f09-b857-1a8ef09a9365",
        "outputId": "fbc572da-c4f3-4beb-866d-aff57c142658"
      },
      "outputs": [
        {
          "data": {
            "text/plain": [
              "2080"
            ]
          },
          "execution_count": 26,
          "metadata": {},
          "output_type": "execute_result"
        }
      ],
      "source": [
        "65*32"
      ]
    },
    {
      "cell_type": "code",
      "execution_count": null,
      "id": "c2ac887f-7592-47a3-864e-50dac89ebefe",
      "metadata": {
        "id": "c2ac887f-7592-47a3-864e-50dac89ebefe"
      },
      "outputs": [],
      "source": [
        "#(8+1)*128\n",
        "#(128+1)*64\n",
        "#(64+1)*32\n",
        "#(32+1)*1"
      ]
    },
    {
      "cell_type": "code",
      "execution_count": null,
      "id": "6732b992-e4d0-4f1f-a9b5-6b20b07703ad",
      "metadata": {
        "id": "6732b992-e4d0-4f1f-a9b5-6b20b07703ad",
        "outputId": "10f5eb19-9de2-4d04-fa15-ebcbd0f6b98e"
      },
      "outputs": [
        {
          "data": {
            "text/plain": [
              "11521"
            ]
          },
          "execution_count": 30,
          "metadata": {},
          "output_type": "execute_result"
        }
      ],
      "source": [
        "1152+8256+2080+33"
      ]
    },
    {
      "cell_type": "code",
      "execution_count": null,
      "id": "c358a15e-1171-49c1-813a-562a7f2d0a24",
      "metadata": {
        "id": "c358a15e-1171-49c1-813a-562a7f2d0a24"
      },
      "outputs": [],
      "source": [
        "model.compile(optimizer='adam', \n",
        "              loss= 'binary_crossentropy', \n",
        "              metrics=['accuracy'])"
      ]
    },
    {
      "cell_type": "code",
      "execution_count": null,
      "id": "fa21c2b4-cf58-414e-972e-a596d5483bdf",
      "metadata": {
        "id": "fa21c2b4-cf58-414e-972e-a596d5483bdf",
        "outputId": "14e4ad73-a7c4-41fc-ea0c-3790f8a156a7"
      },
      "outputs": [
        {
          "name": "stdout",
          "output_type": "stream",
          "text": [
            "Epoch 1/100\n",
            "20/20 [==============================] - 1s 10ms/step - loss: 0.6094 - accuracy: 0.6612 - val_loss: 0.5523 - val_accuracy: 0.6883\n",
            "Epoch 2/100\n",
            "20/20 [==============================] - 0s 3ms/step - loss: 0.5181 - accuracy: 0.7443 - val_loss: 0.4879 - val_accuracy: 0.7792\n",
            "Epoch 3/100\n",
            "20/20 [==============================] - 0s 2ms/step - loss: 0.4789 - accuracy: 0.7769 - val_loss: 0.4575 - val_accuracy: 0.7597\n",
            "Epoch 4/100\n",
            "20/20 [==============================] - 0s 2ms/step - loss: 0.4585 - accuracy: 0.7801 - val_loss: 0.4439 - val_accuracy: 0.7792\n",
            "Epoch 5/100\n",
            "20/20 [==============================] - 0s 2ms/step - loss: 0.4468 - accuracy: 0.7850 - val_loss: 0.4420 - val_accuracy: 0.7727\n",
            "Epoch 6/100\n",
            "20/20 [==============================] - 0s 3ms/step - loss: 0.4372 - accuracy: 0.7899 - val_loss: 0.4407 - val_accuracy: 0.7857\n",
            "Epoch 7/100\n",
            "20/20 [==============================] - 0s 3ms/step - loss: 0.4315 - accuracy: 0.7932 - val_loss: 0.4409 - val_accuracy: 0.7727\n",
            "Epoch 8/100\n",
            "20/20 [==============================] - 0s 3ms/step - loss: 0.4253 - accuracy: 0.8029 - val_loss: 0.4425 - val_accuracy: 0.7792\n",
            "Epoch 9/100\n",
            "20/20 [==============================] - 0s 3ms/step - loss: 0.4206 - accuracy: 0.7866 - val_loss: 0.4358 - val_accuracy: 0.7597\n",
            "Epoch 10/100\n",
            "20/20 [==============================] - 0s 3ms/step - loss: 0.4121 - accuracy: 0.7997 - val_loss: 0.4305 - val_accuracy: 0.7792\n",
            "Epoch 11/100\n",
            "20/20 [==============================] - 0s 3ms/step - loss: 0.4051 - accuracy: 0.8143 - val_loss: 0.4289 - val_accuracy: 0.7662\n",
            "Epoch 12/100\n",
            "20/20 [==============================] - 0s 2ms/step - loss: 0.4083 - accuracy: 0.8046 - val_loss: 0.4317 - val_accuracy: 0.7727\n",
            "Epoch 13/100\n",
            "20/20 [==============================] - 0s 3ms/step - loss: 0.3939 - accuracy: 0.8143 - val_loss: 0.4374 - val_accuracy: 0.7662\n",
            "Epoch 14/100\n",
            "20/20 [==============================] - 0s 3ms/step - loss: 0.3940 - accuracy: 0.8241 - val_loss: 0.4359 - val_accuracy: 0.7922\n",
            "Epoch 15/100\n",
            "20/20 [==============================] - 0s 3ms/step - loss: 0.3855 - accuracy: 0.8176 - val_loss: 0.4383 - val_accuracy: 0.7532\n",
            "Epoch 16/100\n",
            "20/20 [==============================] - 0s 3ms/step - loss: 0.3762 - accuracy: 0.8274 - val_loss: 0.4339 - val_accuracy: 0.7597\n",
            "Epoch 17/100\n",
            "20/20 [==============================] - 0s 3ms/step - loss: 0.3722 - accuracy: 0.8322 - val_loss: 0.4424 - val_accuracy: 0.7532\n",
            "Epoch 18/100\n",
            "20/20 [==============================] - 0s 3ms/step - loss: 0.3675 - accuracy: 0.8404 - val_loss: 0.4333 - val_accuracy: 0.7597\n",
            "Epoch 19/100\n",
            "20/20 [==============================] - 0s 3ms/step - loss: 0.3600 - accuracy: 0.8371 - val_loss: 0.4300 - val_accuracy: 0.7532\n",
            "Epoch 20/100\n",
            "20/20 [==============================] - 0s 3ms/step - loss: 0.3539 - accuracy: 0.8420 - val_loss: 0.4425 - val_accuracy: 0.7532\n",
            "Epoch 21/100\n",
            "20/20 [==============================] - 0s 3ms/step - loss: 0.3460 - accuracy: 0.8518 - val_loss: 0.4536 - val_accuracy: 0.7597\n",
            "Epoch 22/100\n",
            "20/20 [==============================] - 0s 3ms/step - loss: 0.3451 - accuracy: 0.8550 - val_loss: 0.4392 - val_accuracy: 0.7597\n",
            "Epoch 23/100\n",
            "20/20 [==============================] - 0s 3ms/step - loss: 0.3333 - accuracy: 0.8616 - val_loss: 0.4491 - val_accuracy: 0.7468\n",
            "Epoch 24/100\n",
            "20/20 [==============================] - 0s 3ms/step - loss: 0.3465 - accuracy: 0.8436 - val_loss: 0.4468 - val_accuracy: 0.7792\n",
            "Epoch 25/100\n",
            "20/20 [==============================] - 0s 3ms/step - loss: 0.3325 - accuracy: 0.8583 - val_loss: 0.4635 - val_accuracy: 0.7662\n",
            "Epoch 26/100\n",
            "20/20 [==============================] - 0s 3ms/step - loss: 0.3164 - accuracy: 0.8664 - val_loss: 0.4622 - val_accuracy: 0.7532\n",
            "Epoch 27/100\n",
            "20/20 [==============================] - 0s 3ms/step - loss: 0.3095 - accuracy: 0.8779 - val_loss: 0.4636 - val_accuracy: 0.7468\n",
            "Epoch 28/100\n",
            "20/20 [==============================] - 0s 3ms/step - loss: 0.3027 - accuracy: 0.8779 - val_loss: 0.4697 - val_accuracy: 0.7597\n",
            "Epoch 29/100\n",
            "20/20 [==============================] - 0s 3ms/step - loss: 0.3017 - accuracy: 0.8811 - val_loss: 0.4592 - val_accuracy: 0.7662\n",
            "Epoch 30/100\n",
            "20/20 [==============================] - 0s 3ms/step - loss: 0.2928 - accuracy: 0.8779 - val_loss: 0.4878 - val_accuracy: 0.7792\n",
            "Epoch 31/100\n",
            "20/20 [==============================] - 0s 2ms/step - loss: 0.2929 - accuracy: 0.8746 - val_loss: 0.4864 - val_accuracy: 0.7597\n",
            "Epoch 32/100\n",
            "20/20 [==============================] - 0s 3ms/step - loss: 0.2830 - accuracy: 0.8860 - val_loss: 0.4584 - val_accuracy: 0.7662\n",
            "Epoch 33/100\n",
            "20/20 [==============================] - 0s 3ms/step - loss: 0.2678 - accuracy: 0.9055 - val_loss: 0.4861 - val_accuracy: 0.7857\n",
            "Epoch 34/100\n",
            "20/20 [==============================] - 0s 3ms/step - loss: 0.2708 - accuracy: 0.8990 - val_loss: 0.4809 - val_accuracy: 0.7597\n",
            "Epoch 35/100\n",
            "20/20 [==============================] - 0s 3ms/step - loss: 0.2589 - accuracy: 0.8925 - val_loss: 0.4968 - val_accuracy: 0.7662\n",
            "Epoch 36/100\n",
            "20/20 [==============================] - 0s 3ms/step - loss: 0.2559 - accuracy: 0.8958 - val_loss: 0.5052 - val_accuracy: 0.7273\n",
            "Epoch 37/100\n",
            "20/20 [==============================] - 0s 3ms/step - loss: 0.2438 - accuracy: 0.9153 - val_loss: 0.4974 - val_accuracy: 0.7662\n",
            "Epoch 38/100\n",
            "20/20 [==============================] - 0s 3ms/step - loss: 0.2358 - accuracy: 0.9186 - val_loss: 0.4969 - val_accuracy: 0.7662\n",
            "Epoch 39/100\n",
            "20/20 [==============================] - 0s 3ms/step - loss: 0.2315 - accuracy: 0.9202 - val_loss: 0.5101 - val_accuracy: 0.7792\n",
            "Epoch 40/100\n",
            "20/20 [==============================] - 0s 3ms/step - loss: 0.2213 - accuracy: 0.9186 - val_loss: 0.4879 - val_accuracy: 0.7727\n",
            "Epoch 41/100\n",
            "20/20 [==============================] - 0s 3ms/step - loss: 0.2282 - accuracy: 0.9121 - val_loss: 0.5748 - val_accuracy: 0.7597\n",
            "Epoch 42/100\n",
            "20/20 [==============================] - 0s 3ms/step - loss: 0.2298 - accuracy: 0.9104 - val_loss: 0.4970 - val_accuracy: 0.7403\n",
            "Epoch 43/100\n",
            "20/20 [==============================] - 0s 3ms/step - loss: 0.2313 - accuracy: 0.9072 - val_loss: 0.5256 - val_accuracy: 0.7532\n",
            "Epoch 44/100\n",
            "20/20 [==============================] - 0s 3ms/step - loss: 0.2064 - accuracy: 0.9316 - val_loss: 0.5328 - val_accuracy: 0.7532\n",
            "Epoch 45/100\n",
            "20/20 [==============================] - 0s 3ms/step - loss: 0.1973 - accuracy: 0.9267 - val_loss: 0.5365 - val_accuracy: 0.7468\n",
            "Epoch 46/100\n",
            "20/20 [==============================] - 0s 3ms/step - loss: 0.1922 - accuracy: 0.9349 - val_loss: 0.5202 - val_accuracy: 0.7662\n",
            "Epoch 47/100\n",
            "20/20 [==============================] - 0s 3ms/step - loss: 0.1865 - accuracy: 0.9397 - val_loss: 0.5385 - val_accuracy: 0.7597\n",
            "Epoch 48/100\n",
            "20/20 [==============================] - 0s 3ms/step - loss: 0.1767 - accuracy: 0.9414 - val_loss: 0.5934 - val_accuracy: 0.7403\n",
            "Epoch 49/100\n",
            "20/20 [==============================] - 0s 3ms/step - loss: 0.1741 - accuracy: 0.9300 - val_loss: 0.5588 - val_accuracy: 0.7468\n",
            "Epoch 50/100\n",
            "20/20 [==============================] - 0s 3ms/step - loss: 0.1616 - accuracy: 0.9349 - val_loss: 0.6399 - val_accuracy: 0.7403\n",
            "Epoch 51/100\n",
            "20/20 [==============================] - 0s 3ms/step - loss: 0.1731 - accuracy: 0.9397 - val_loss: 0.6288 - val_accuracy: 0.7208\n",
            "Epoch 52/100\n",
            "20/20 [==============================] - 0s 2ms/step - loss: 0.1550 - accuracy: 0.9528 - val_loss: 0.6100 - val_accuracy: 0.7662\n",
            "Epoch 53/100\n",
            "20/20 [==============================] - 0s 3ms/step - loss: 0.1525 - accuracy: 0.9528 - val_loss: 0.5959 - val_accuracy: 0.7662\n",
            "Epoch 54/100\n",
            "20/20 [==============================] - 0s 3ms/step - loss: 0.1430 - accuracy: 0.9528 - val_loss: 0.6034 - val_accuracy: 0.7532\n",
            "Epoch 55/100\n",
            "20/20 [==============================] - 0s 3ms/step - loss: 0.1323 - accuracy: 0.9674 - val_loss: 0.5979 - val_accuracy: 0.7597\n",
            "Epoch 56/100\n",
            "20/20 [==============================] - 0s 2ms/step - loss: 0.1305 - accuracy: 0.9625 - val_loss: 0.6201 - val_accuracy: 0.7532\n",
            "Epoch 57/100\n",
            "20/20 [==============================] - 0s 2ms/step - loss: 0.1319 - accuracy: 0.9609 - val_loss: 0.6843 - val_accuracy: 0.7468\n",
            "Epoch 58/100\n",
            "20/20 [==============================] - 0s 2ms/step - loss: 0.1284 - accuracy: 0.9577 - val_loss: 0.6179 - val_accuracy: 0.7468\n",
            "Epoch 59/100\n",
            "20/20 [==============================] - 0s 2ms/step - loss: 0.1153 - accuracy: 0.9691 - val_loss: 0.6402 - val_accuracy: 0.7403\n",
            "Epoch 60/100\n",
            "20/20 [==============================] - 0s 2ms/step - loss: 0.1166 - accuracy: 0.9642 - val_loss: 0.7065 - val_accuracy: 0.7273\n",
            "Epoch 61/100\n",
            "20/20 [==============================] - 0s 2ms/step - loss: 0.1055 - accuracy: 0.9756 - val_loss: 0.6492 - val_accuracy: 0.7662\n",
            "Epoch 62/100\n",
            "20/20 [==============================] - 0s 3ms/step - loss: 0.1030 - accuracy: 0.9691 - val_loss: 0.6613 - val_accuracy: 0.7597\n",
            "Epoch 63/100\n",
            "20/20 [==============================] - 0s 3ms/step - loss: 0.0997 - accuracy: 0.9739 - val_loss: 0.6960 - val_accuracy: 0.7273\n",
            "Epoch 64/100\n",
            "20/20 [==============================] - 0s 2ms/step - loss: 0.1077 - accuracy: 0.9723 - val_loss: 0.7688 - val_accuracy: 0.7532\n",
            "Epoch 65/100\n",
            "20/20 [==============================] - 0s 2ms/step - loss: 0.1503 - accuracy: 0.9397 - val_loss: 0.6876 - val_accuracy: 0.7468\n",
            "Epoch 66/100\n",
            "20/20 [==============================] - 0s 4ms/step - loss: 0.1480 - accuracy: 0.9463 - val_loss: 0.7616 - val_accuracy: 0.7727\n",
            "Epoch 67/100\n",
            "20/20 [==============================] - 0s 2ms/step - loss: 0.1195 - accuracy: 0.9544 - val_loss: 0.7545 - val_accuracy: 0.7532\n",
            "Epoch 68/100\n",
            "20/20 [==============================] - 0s 2ms/step - loss: 0.1015 - accuracy: 0.9739 - val_loss: 0.7278 - val_accuracy: 0.7727\n",
            "Epoch 69/100\n",
            "20/20 [==============================] - 0s 2ms/step - loss: 0.0808 - accuracy: 0.9821 - val_loss: 0.7052 - val_accuracy: 0.7597\n",
            "Epoch 70/100\n",
            "20/20 [==============================] - 0s 2ms/step - loss: 0.0717 - accuracy: 0.9788 - val_loss: 0.7146 - val_accuracy: 0.7662\n",
            "Epoch 71/100\n",
            "20/20 [==============================] - 0s 2ms/step - loss: 0.0701 - accuracy: 0.9788 - val_loss: 0.7572 - val_accuracy: 0.7727\n",
            "Epoch 72/100\n",
            "20/20 [==============================] - 0s 2ms/step - loss: 0.0647 - accuracy: 0.9837 - val_loss: 0.7289 - val_accuracy: 0.7727\n",
            "Epoch 73/100\n",
            "20/20 [==============================] - 0s 2ms/step - loss: 0.0622 - accuracy: 0.9886 - val_loss: 0.7464 - val_accuracy: 0.7532\n",
            "Epoch 74/100\n",
            "20/20 [==============================] - 0s 2ms/step - loss: 0.0584 - accuracy: 0.9935 - val_loss: 0.7838 - val_accuracy: 0.7597\n",
            "Epoch 75/100\n",
            "20/20 [==============================] - 0s 3ms/step - loss: 0.0625 - accuracy: 0.9902 - val_loss: 0.7940 - val_accuracy: 0.7662\n",
            "Epoch 76/100\n",
            "20/20 [==============================] - 0s 3ms/step - loss: 0.0655 - accuracy: 0.9853 - val_loss: 0.7709 - val_accuracy: 0.7792\n",
            "Epoch 77/100\n",
            "20/20 [==============================] - 0s 3ms/step - loss: 0.0864 - accuracy: 0.9805 - val_loss: 0.8765 - val_accuracy: 0.7468\n",
            "Epoch 78/100\n",
            "20/20 [==============================] - 0s 2ms/step - loss: 0.0951 - accuracy: 0.9739 - val_loss: 0.8275 - val_accuracy: 0.7987\n",
            "Epoch 79/100\n",
            "20/20 [==============================] - 0s 3ms/step - loss: 0.0919 - accuracy: 0.9723 - val_loss: 0.8133 - val_accuracy: 0.7532\n",
            "Epoch 80/100\n",
            "20/20 [==============================] - 0s 4ms/step - loss: 0.0687 - accuracy: 0.9837 - val_loss: 0.8305 - val_accuracy: 0.7727\n",
            "Epoch 81/100\n",
            "20/20 [==============================] - 0s 4ms/step - loss: 0.0571 - accuracy: 0.9902 - val_loss: 0.8190 - val_accuracy: 0.7857\n",
            "Epoch 82/100\n",
            "20/20 [==============================] - 0s 2ms/step - loss: 0.0620 - accuracy: 0.9837 - val_loss: 0.8270 - val_accuracy: 0.7532\n",
            "Epoch 83/100\n",
            "20/20 [==============================] - 0s 2ms/step - loss: 0.1462 - accuracy: 0.9577 - val_loss: 0.9332 - val_accuracy: 0.7013\n",
            "Epoch 84/100\n",
            "20/20 [==============================] - 0s 2ms/step - loss: 0.0796 - accuracy: 0.9723 - val_loss: 0.9086 - val_accuracy: 0.7468\n",
            "Epoch 85/100\n",
            "20/20 [==============================] - 0s 2ms/step - loss: 0.0596 - accuracy: 0.9837 - val_loss: 0.8538 - val_accuracy: 0.7597\n",
            "Epoch 86/100\n",
            "20/20 [==============================] - 0s 2ms/step - loss: 0.0455 - accuracy: 0.9951 - val_loss: 0.8463 - val_accuracy: 0.7468\n",
            "Epoch 87/100\n",
            "20/20 [==============================] - 0s 3ms/step - loss: 0.0556 - accuracy: 0.9886 - val_loss: 0.8788 - val_accuracy: 0.7532\n",
            "Epoch 88/100\n",
            "20/20 [==============================] - 0s 2ms/step - loss: 0.0447 - accuracy: 0.9935 - val_loss: 0.8336 - val_accuracy: 0.7662\n",
            "Epoch 89/100\n",
            "20/20 [==============================] - 0s 3ms/step - loss: 0.0480 - accuracy: 0.9902 - val_loss: 0.8778 - val_accuracy: 0.7792\n",
            "Epoch 90/100\n",
            "20/20 [==============================] - 0s 2ms/step - loss: 0.0491 - accuracy: 0.9902 - val_loss: 0.8688 - val_accuracy: 0.7792\n",
            "Epoch 91/100\n",
            "20/20 [==============================] - 0s 3ms/step - loss: 0.0418 - accuracy: 0.9935 - val_loss: 0.9289 - val_accuracy: 0.7468\n",
            "Epoch 92/100\n",
            "20/20 [==============================] - 0s 3ms/step - loss: 0.0310 - accuracy: 1.0000 - val_loss: 0.8918 - val_accuracy: 0.7727\n",
            "Epoch 93/100\n",
            "20/20 [==============================] - 0s 2ms/step - loss: 0.0287 - accuracy: 0.9967 - val_loss: 0.9157 - val_accuracy: 0.7662\n",
            "Epoch 94/100\n",
            "20/20 [==============================] - 0s 3ms/step - loss: 0.0249 - accuracy: 1.0000 - val_loss: 0.8934 - val_accuracy: 0.7857\n",
            "Epoch 95/100\n",
            "20/20 [==============================] - 0s 3ms/step - loss: 0.0243 - accuracy: 0.9984 - val_loss: 0.9454 - val_accuracy: 0.7792\n",
            "Epoch 96/100\n",
            "20/20 [==============================] - 0s 2ms/step - loss: 0.0240 - accuracy: 0.9967 - val_loss: 0.9381 - val_accuracy: 0.7532\n",
            "Epoch 97/100\n",
            "20/20 [==============================] - 0s 2ms/step - loss: 0.0273 - accuracy: 0.9967 - val_loss: 0.9607 - val_accuracy: 0.7403\n",
            "Epoch 98/100\n",
            "20/20 [==============================] - 0s 2ms/step - loss: 0.0269 - accuracy: 0.9984 - val_loss: 0.9951 - val_accuracy: 0.7597\n",
            "Epoch 99/100\n",
            "20/20 [==============================] - 0s 3ms/step - loss: 0.0255 - accuracy: 0.9967 - val_loss: 0.8974 - val_accuracy: 0.7532\n",
            "Epoch 100/100\n",
            "20/20 [==============================] - 0s 2ms/step - loss: 0.0299 - accuracy: 0.9967 - val_loss: 0.9602 - val_accuracy: 0.7792\n"
          ]
        }
      ],
      "source": [
        "result = model.fit(X_train_scaled, \n",
        "                   y_train,\n",
        "                   validation_data = (X_test_scaled, y_test),\n",
        "                   epochs=100)"
      ]
    },
    {
      "cell_type": "code",
      "execution_count": null,
      "id": "e3551df5-c612-4084-b258-e43e03fd1c01",
      "metadata": {
        "id": "e3551df5-c612-4084-b258-e43e03fd1c01"
      },
      "outputs": [],
      "source": [
        "y_train_pred = model.predict(X_train_scaled)\n",
        "y_test_pred = model.predict(X_test_scaled)"
      ]
    },
    {
      "cell_type": "code",
      "execution_count": null,
      "id": "d604102e-0602-492d-9adc-42c4a0d17410",
      "metadata": {
        "id": "d604102e-0602-492d-9adc-42c4a0d17410",
        "outputId": "baa933e6-9674-4df0-81a8-8fd3f1480df9"
      },
      "outputs": [
        {
          "data": {
            "text/plain": [
              "array([ True])"
            ]
          },
          "execution_count": 40,
          "metadata": {},
          "output_type": "execute_result"
        }
      ],
      "source": [
        "y_train_pred[0] >=0.5"
      ]
    },
    {
      "cell_type": "code",
      "execution_count": null,
      "id": "e1f74d2e-3ec4-4b86-8975-bacdaf8cc79b",
      "metadata": {
        "id": "e1f74d2e-3ec4-4b86-8975-bacdaf8cc79b"
      },
      "outputs": [],
      "source": [
        "from sklearn.metrics import confusion_matrix, accuracy_score"
      ]
    },
    {
      "cell_type": "code",
      "execution_count": null,
      "id": "c4edecff-1137-418f-8d39-21374a68f2cb",
      "metadata": {
        "id": "c4edecff-1137-418f-8d39-21374a68f2cb",
        "outputId": "87089dd3-c8f8-4234-b974-9f7e4d45835c"
      },
      "outputs": [
        {
          "data": {
            "text/plain": [
              "array([[400,   0],\n",
              "       [  0, 214]])"
            ]
          },
          "execution_count": 35,
          "metadata": {},
          "output_type": "execute_result"
        }
      ],
      "source": [
        "confusion_matrix(y_pred=y_train_pred >= 0.5, \n",
        "                 y_true = y_train)"
      ]
    },
    {
      "cell_type": "code",
      "execution_count": null,
      "id": "ee5a513d-8de5-4b3a-9bb5-2f16a1641c50",
      "metadata": {
        "id": "ee5a513d-8de5-4b3a-9bb5-2f16a1641c50",
        "outputId": "205fbc39-1193-4561-e98b-a6af6ad86192"
      },
      "outputs": [
        {
          "data": {
            "text/plain": [
              "1.0"
            ]
          },
          "execution_count": 36,
          "metadata": {},
          "output_type": "execute_result"
        }
      ],
      "source": [
        "accuracy_score(y_pred=y_train_pred >= 0.5, \n",
        "               y_true = y_train)"
      ]
    },
    {
      "cell_type": "code",
      "execution_count": null,
      "id": "83c9c1c1-4b5f-4d17-9a1f-05d920609e65",
      "metadata": {
        "id": "83c9c1c1-4b5f-4d17-9a1f-05d920609e65",
        "outputId": "9fb00e2f-be22-403d-a1bb-64c54ad6b108"
      },
      "outputs": [
        {
          "data": {
            "text/plain": [
              "array([[81, 19],\n",
              "       [15, 39]])"
            ]
          },
          "execution_count": 37,
          "metadata": {},
          "output_type": "execute_result"
        }
      ],
      "source": [
        "confusion_matrix(y_pred=y_test_pred >= 0.5, \n",
        "                 y_true = y_test)"
      ]
    },
    {
      "cell_type": "code",
      "execution_count": null,
      "id": "e5c155ae-c1ab-4afb-bd8b-edc619be4cdf",
      "metadata": {
        "id": "e5c155ae-c1ab-4afb-bd8b-edc619be4cdf",
        "outputId": "e15630dc-7661-4b2f-f4fd-679a3407cb8c"
      },
      "outputs": [
        {
          "data": {
            "text/plain": [
              "0.7792207792207793"
            ]
          },
          "execution_count": 38,
          "metadata": {},
          "output_type": "execute_result"
        }
      ],
      "source": [
        "accuracy_score(y_pred=y_test_pred >= 0.5, \n",
        "               y_true = y_test)"
      ]
    },
    {
      "cell_type": "code",
      "execution_count": null,
      "id": "88a8ed66-80cd-4545-812f-66e5dcd72333",
      "metadata": {
        "id": "88a8ed66-80cd-4545-812f-66e5dcd72333"
      },
      "outputs": [],
      "source": [
        "history = pd.DataFrame(result.history)"
      ]
    },
    {
      "cell_type": "code",
      "execution_count": null,
      "id": "7591d6f3-113e-4751-bc90-d815427fd3d1",
      "metadata": {
        "id": "7591d6f3-113e-4751-bc90-d815427fd3d1",
        "outputId": "e3fac905-904d-4be7-94af-9b7c686f7695"
      },
      "outputs": [
        {
          "data": {
            "text/html": [
              "<div>\n",
              "<style scoped>\n",
              "    .dataframe tbody tr th:only-of-type {\n",
              "        vertical-align: middle;\n",
              "    }\n",
              "\n",
              "    .dataframe tbody tr th {\n",
              "        vertical-align: top;\n",
              "    }\n",
              "\n",
              "    .dataframe thead th {\n",
              "        text-align: right;\n",
              "    }\n",
              "</style>\n",
              "<table border=\"1\" class=\"dataframe\">\n",
              "  <thead>\n",
              "    <tr style=\"text-align: right;\">\n",
              "      <th></th>\n",
              "      <th>loss</th>\n",
              "      <th>accuracy</th>\n",
              "      <th>val_loss</th>\n",
              "      <th>val_accuracy</th>\n",
              "    </tr>\n",
              "  </thead>\n",
              "  <tbody>\n",
              "    <tr>\n",
              "      <th>0</th>\n",
              "      <td>0.609415</td>\n",
              "      <td>0.661238</td>\n",
              "      <td>0.552251</td>\n",
              "      <td>0.688312</td>\n",
              "    </tr>\n",
              "    <tr>\n",
              "      <th>1</th>\n",
              "      <td>0.518101</td>\n",
              "      <td>0.744300</td>\n",
              "      <td>0.487855</td>\n",
              "      <td>0.779221</td>\n",
              "    </tr>\n",
              "    <tr>\n",
              "      <th>2</th>\n",
              "      <td>0.478926</td>\n",
              "      <td>0.776873</td>\n",
              "      <td>0.457537</td>\n",
              "      <td>0.759740</td>\n",
              "    </tr>\n",
              "    <tr>\n",
              "      <th>3</th>\n",
              "      <td>0.458470</td>\n",
              "      <td>0.780130</td>\n",
              "      <td>0.443889</td>\n",
              "      <td>0.779221</td>\n",
              "    </tr>\n",
              "    <tr>\n",
              "      <th>4</th>\n",
              "      <td>0.446818</td>\n",
              "      <td>0.785016</td>\n",
              "      <td>0.442026</td>\n",
              "      <td>0.772727</td>\n",
              "    </tr>\n",
              "  </tbody>\n",
              "</table>\n",
              "</div>"
            ],
            "text/plain": [
              "       loss  accuracy  val_loss  val_accuracy\n",
              "0  0.609415  0.661238  0.552251      0.688312\n",
              "1  0.518101  0.744300  0.487855      0.779221\n",
              "2  0.478926  0.776873  0.457537      0.759740\n",
              "3  0.458470  0.780130  0.443889      0.779221\n",
              "4  0.446818  0.785016  0.442026      0.772727"
            ]
          },
          "execution_count": 42,
          "metadata": {},
          "output_type": "execute_result"
        }
      ],
      "source": [
        "history.head()"
      ]
    },
    {
      "cell_type": "code",
      "execution_count": null,
      "id": "5bc6b994-3a44-49b0-b05f-1bff291eb317",
      "metadata": {
        "id": "5bc6b994-3a44-49b0-b05f-1bff291eb317"
      },
      "outputs": [],
      "source": [
        "import matplotlib.pyplot as plt"
      ]
    },
    {
      "cell_type": "code",
      "execution_count": null,
      "id": "ad6b437b-a492-4ae2-b2d3-c463bbfc53e6",
      "metadata": {
        "id": "ad6b437b-a492-4ae2-b2d3-c463bbfc53e6",
        "outputId": "ca52ce52-ed1a-4d5b-c888-bf68281c5890"
      },
      "outputs": [
        {
          "data": {
            "image/png": "[encoded data removed]",
            "text/plain": [
              "<Figure size 1800x432 with 1 Axes>"
            ]
          },
          "metadata": {
            "needs_background": "light"
          },
          "output_type": "display_data"
        }
      ],
      "source": [
        "plt.figure(figsize = (25,6))\n",
        "plt.plot(history.val_loss, label='Test Set Loss')\n",
        "plt.plot(history.loss, label='Training Set Loss')\n",
        "plt.title('Epochs vs Loss')\n",
        "plt.xlabel('Epochs')\n",
        "plt.ylabel('Loss')\n",
        "plt.legend()\n",
        "plt.show()"
      ]
    },
    {
      "cell_type": "code",
      "execution_count": null,
      "id": "88b30dc0-5cc8-4423-b100-46bb7b8f8497",
      "metadata": {
        "id": "88b30dc0-5cc8-4423-b100-46bb7b8f8497",
        "outputId": "08a09009-7d38-4b64-d1a7-ab4d3cf5328e"
      },
      "outputs": [
        {
          "data": {
            "image/png": "[encoded data removed]",
            "text/plain": [
              "<Figure size 1080x432 with 1 Axes>"
            ]
          },
          "metadata": {
            "needs_background": "light"
          },
          "output_type": "display_data"
        }
      ],
      "source": [
        "plt.figure(figsize = (15,6))\n",
        "plt.plot(history.val_accuracy, label='Test Set Accuracy')\n",
        "plt.plot(history.accuracy, label='Training Set Accuracy')\n",
        "plt.title('Epochs vs Accuracy')\n",
        "plt.xlabel('Epochs')\n",
        "plt.ylabel('Accuracy')\n",
        "plt.legend()\n",
        "plt.show()"
      ]
    },
    {
      "cell_type": "code",
      "execution_count": null,
      "id": "8f201a8b-d1e1-40d2-ad64-8ec5301882b8",
      "metadata": {
        "id": "8f201a8b-d1e1-40d2-ad64-8ec5301882b8"
      },
      "outputs": [],
      "source": []
    }
  ],
  "metadata": {
    "kernelspec": {
      "display_name": "Python 3",
      "language": "python",
      "name": "python3"
    },
    "language_info": {
      "codemirror_mode": {
        "name": "ipython",
        "version": 3
      },
      "file_extension": ".py",
      "mimetype": "text/x-python",
      "name": "python",
      "nbconvert_exporter": "python",
      "pygments_lexer": "ipython3",
      "version": "3.7.6"
    },
    "colab": {
      "provenance": [],
      "include_colab_link": true
    }
  },
  "nbformat": 4,
  "nbformat_minor": 5
}